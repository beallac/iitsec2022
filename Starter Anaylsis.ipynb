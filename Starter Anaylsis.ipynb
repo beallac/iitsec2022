{
  "nbformat": 4,
  "nbformat_minor": 0,
  "metadata": {
    "colab": {
      "provenance": [],
      "authorship_tag": "ABX9TyMKSk6w3/sd/hA+GbdSRSCv",
      "include_colab_link": true
    },
    "kernelspec": {
      "name": "python3",
      "display_name": "Python 3"
    },
    "language_info": {
      "name": "python"
    }
  },
  "cells": [
    {
      "cell_type": "markdown",
      "metadata": {
        "id": "view-in-github",
        "colab_type": "text"
      },
      "source": [
        "<a href=\"https://colab.research.google.com/github/beallac/iitsec2022/blob/main/Starter%20Anaylsis.ipynb\" target=\"_parent\"><img src=\"https://colab.research.google.com/assets/colab-badge.svg\" alt=\"Open In Colab\"/></a>"
      ]
    },
    {
      "cell_type": "code",
      "source": [
        "# import pingouin as pg\n",
        "import numpy as np\n",
        "import pandas as pd \n",
        "import seaborn as sns\n",
        "\n",
        "from scipy.stats import ttest_ind, ttest_rel\n",
        "from statsmodels.stats.power import TTestIndPower\n",
        "import statsmodels.api as sm\n",
        "from statsmodels.formula.api import ols"
      ],
      "metadata": {
        "id": "4GGYq630ID4U"
      },
      "execution_count": 1,
      "outputs": []
    },
    {
      "cell_type": "code",
      "execution_count": null,
      "metadata": {
        "id": "N1kp49cAHYAn"
      },
      "outputs": [],
      "source": [
        "print('hello')\n",
        "print('bye')\n",
        "\n",
        "import pandas as pd\n",
        "pd.read_csv('https://raw.githubusercontent.com/beallac/iitsec2022/main/data_1.csv')\n"
      ]
    },
    {
      "cell_type": "code",
      "source": [
        "df = pd.DataFrame({'month': [1, 4, 7, 10],\n",
        "                   'year': [2012, 2014, 2013, 2014],\n",
        "                   'sale': [55, 40, 84, 31]})\n",
        "\n",
        "df.set_index('month')\n",
        "df.info()"
      ],
      "metadata": {
        "colab": {
          "base_uri": "https://localhost:8080/"
        },
        "id": "OsfKJUwpQNtZ",
        "outputId": "33cf1ea3-32ce-446a-9248-63f82acdbed5"
      },
      "execution_count": 64,
      "outputs": [
        {
          "output_type": "stream",
          "name": "stdout",
          "text": [
            "<class 'pandas.core.frame.DataFrame'>\n",
            "RangeIndex: 4 entries, 0 to 3\n",
            "Data columns (total 3 columns):\n",
            " #   Column  Non-Null Count  Dtype\n",
            "---  ------  --------------  -----\n",
            " 0   month   4 non-null      int64\n",
            " 1   year    4 non-null      int64\n",
            " 2   sale    4 non-null      int64\n",
            "dtypes: int64(3)\n",
            "memory usage: 224.0 bytes\n"
          ]
        }
      ]
    },
    {
      "cell_type": "code",
      "source": [
        "ins = pd.read_csv('instructors.csv')\n",
        "\n",
        "# ins.set_index('Year')\n",
        "# ins.info()\n",
        "ins\n",
        "\n",
        "n = ins.set_index('Year')\n",
        "n.info()\n",
        "\n",
        "n.groupby(level = 'Year')\n"
      ],
      "metadata": {
        "colab": {
          "base_uri": "https://localhost:8080/"
        },
        "id": "Jd9B8vZlH9uU",
        "outputId": "92b94287-cd68-43d1-b051-34588bcd69b9"
      },
      "execution_count": 92,
      "outputs": [
        {
          "output_type": "stream",
          "name": "stdout",
          "text": [
            "<class 'pandas.core.frame.DataFrame'>\n",
            "Int64Index: 6 entries, 2021 to 2022\n",
            "Data columns (total 3 columns):\n",
            " #   Column  Non-Null Count  Dtype  \n",
            "---  ------  --------------  -----  \n",
            " 0   Name    6 non-null      object \n",
            " 1   Height  6 non-null      float64\n",
            " 2   Weight  6 non-null      int64  \n",
            "dtypes: float64(1), int64(1), object(1)\n",
            "memory usage: 192.0+ bytes\n"
          ]
        },
        {
          "output_type": "execute_result",
          "data": {
            "text/plain": [
              "<pandas.core.groupby.generic.DataFrameGroupBy object at 0x7f444c9ba590>"
            ]
          },
          "metadata": {},
          "execution_count": 92
        }
      ]
    },
    {
      "cell_type": "code",
      "source": [
        "ins.boxplot()"
      ],
      "metadata": {
        "colab": {
          "base_uri": "https://localhost:8080/",
          "height": 282
        },
        "id": "iGyZCQ6yIdbb",
        "outputId": "cc59f164-30e6-4b82-dfc3-c5bd5380dafd"
      },
      "execution_count": 14,
      "outputs": [
        {
          "output_type": "execute_result",
          "data": {
            "text/plain": [
              "<matplotlib.axes._subplots.AxesSubplot at 0x7f4451540d10>"
            ]
          },
          "metadata": {},
          "execution_count": 14
        },
        {
          "output_type": "display_data",
          "data": {
            "text/plain": [
              "<Figure size 432x288 with 1 Axes>"
            ],
            "image/png": "[encoded data removed]"
          },
          "metadata": {
            "needs_background": "light"
          }
        }
      ]
    },
    {
      "cell_type": "code",
      "source": [
        "# grouped = df.groupby(level='lvl1')\n",
        "# grouped.boxplot(rot=45, fontsize=12, figsize=(8,10))  \n",
        "\n",
        "n = ins.set_index('Year')\n",
        "\n",
        "n.to_csv('foo.csv')\n",
        "\n",
        "grouped = n.groupby(level = 'Year')\n",
        "# grouped.info()\n",
        "\n",
        "# grouped.boxplot(column = 'Weight')\n",
        "\n",
        "grouped.boxplot(column = 'Weight')\n",
        "\n",
        "\n"
      ],
      "metadata": {
        "colab": {
          "base_uri": "https://localhost:8080/",
          "height": 331
        },
        "id": "ZJPtYO7nKS_y",
        "outputId": "2095ce33-ddca-47e4-fa5a-07fd34754f89"
      },
      "execution_count": 93,
      "outputs": [
        {
          "output_type": "execute_result",
          "data": {
            "text/plain": [
              "2021         AxesSubplot(0.1,0.15;0.363636x0.75)\n",
              "2022    AxesSubplot(0.536364,0.15;0.363636x0.75)\n",
              "dtype: object"
            ]
          },
          "metadata": {},
          "execution_count": 93
        },
        {
          "output_type": "display_data",
          "data": {
            "text/plain": [
              "<Figure size 432x288 with 2 Axes>"
            ],
            "image/png": "[encoded data removed]"
          },
          "metadata": {
            "needs_background": "light"
          }
        }
      ]
    },
    {
      "cell_type": "code",
      "source": [
        "import itertools\n",
        "tuples = [t for t in itertools.product(range(1000), range(4))]\n",
        "index = pd.MultiIndex.from_tuples(tuples, names=['lvl0', 'lvl1'])\n",
        "data = np.random.randn(len(index),4)\n",
        "df = pd.DataFrame(data, columns=list('ABCD'), index=index)\n",
        "\n",
        "df.tail(100)\n",
        "\n",
        "\n",
        "# grouped = df.groupby(level='lvl1')\n",
        "# grouped.boxplot(rot=45, fontsize=12, figsize=(8,10))  "
      ],
      "metadata": {
        "colab": {
          "base_uri": "https://localhost:8080/",
          "height": 641
        },
        "id": "HzxfXvVSNaxo",
        "outputId": "13739226-c241-4e92-e158-e5dc4d8a0d90"
      },
      "execution_count": 48,
      "outputs": [
        {
          "output_type": "execute_result",
          "data": {
            "text/plain": [
              "                  A         B         C         D\n",
              "lvl0 lvl1                                        \n",
              "975  0    -0.116545  0.111589  0.357614  0.273319\n",
              "     1    -1.881384 -1.672747  1.733635 -1.254004\n",
              "     2    -1.438011  0.149768  0.096768 -0.992148\n",
              "     3    -0.496782  2.035676  0.574374  0.091500\n",
              "976  0    -1.079553 -0.886561  1.563995 -0.390541\n",
              "...             ...       ...       ...       ...\n",
              "998  3    -0.361874 -0.136517  0.602392 -0.145080\n",
              "999  0     1.503380  0.900529  2.030830 -1.813326\n",
              "     1     0.604772 -0.528510  1.282149  1.266465\n",
              "     2    -1.698483  0.368150 -0.546279  1.212314\n",
              "     3    -0.407296 -0.889329 -0.145542  1.362518\n",
              "\n",
              "[100 rows x 4 columns]"
            ],
            "text/html": [
              "\n",
              "  <div id=\"df-86a287da-cb8e-4005-8e5c-68e909ca7d34\">\n",
              "    <div class=\"colab-df-container\">\n",
              "      <div>\n",
              "<style scoped>\n",
              "    .dataframe tbody tr th:only-of-type {\n",
              "        vertical-align: middle;\n",
              "    }\n",
              "\n",
              "    .dataframe tbody tr th {\n",
              "        vertical-align: top;\n",
              "    }\n",
              "\n",
              "    .dataframe thead th {\n",
              "        text-align: right;\n",
              "    }\n",
              "</style>\n",
              "<table border=\"1\" class=\"dataframe\">\n",
              "  <thead>\n",
              "    <tr style=\"text-align: right;\">\n",
              "      <th></th>\n",
              "      <th></th>\n",
              "      <th>A</th>\n",
              "      <th>B</th>\n",
              "      <th>C</th>\n",
              "      <th>D</th>\n",
              "    </tr>\n",
              "    <tr>\n",
              "      <th>lvl0</th>\n",
              "      <th>lvl1</th>\n",
              "      <th></th>\n",
              "      <th></th>\n",
              "      <th></th>\n",
              "      <th></th>\n",
              "    </tr>\n",
              "  </thead>\n",
              "  <tbody>\n",
              "    <tr>\n",
              "      <th rowspan=\"4\" valign=\"top\">975</th>\n",
              "      <th>0</th>\n",
              "      <td>-0.116545</td>\n",
              "      <td>0.111589</td>\n",
              "      <td>0.357614</td>\n",
              "      <td>0.273319</td>\n",
              "    </tr>\n",
              "    <tr>\n",
              "      <th>1</th>\n",
              "      <td>-1.881384</td>\n",
              "      <td>-1.672747</td>\n",
              "      <td>1.733635</td>\n",
              "      <td>-1.254004</td>\n",
              "    </tr>\n",
              "    <tr>\n",
              "      <th>2</th>\n",
              "      <td>-1.438011</td>\n",
              "      <td>0.149768</td>\n",
              "      <td>0.096768</td>\n",
              "      <td>-0.992148</td>\n",
              "    </tr>\n",
              "    <tr>\n",
              "      <th>3</th>\n",
              "      <td>-0.496782</td>\n",
              "      <td>2.035676</td>\n",
              "      <td>0.574374</td>\n",
              "      <td>0.091500</td>\n",
              "    </tr>\n",
              "    <tr>\n",
              "      <th>976</th>\n",
              "      <th>0</th>\n",
              "      <td>-1.079553</td>\n",
              "      <td>-0.886561</td>\n",
              "      <td>1.563995</td>\n",
              "      <td>-0.390541</td>\n",
              "    </tr>\n",
              "    <tr>\n",
              "      <th>...</th>\n",
              "      <th>...</th>\n",
              "      <td>...</td>\n",
              "      <td>...</td>\n",
              "      <td>...</td>\n",
              "      <td>...</td>\n",
              "    </tr>\n",
              "    <tr>\n",
              "      <th>998</th>\n",
              "      <th>3</th>\n",
              "      <td>-0.361874</td>\n",
              "      <td>-0.136517</td>\n",
              "      <td>0.602392</td>\n",
              "      <td>-0.145080</td>\n",
              "    </tr>\n",
              "    <tr>\n",
              "      <th rowspan=\"4\" valign=\"top\">999</th>\n",
              "      <th>0</th>\n",
              "      <td>1.503380</td>\n",
              "      <td>0.900529</td>\n",
              "      <td>2.030830</td>\n",
              "      <td>-1.813326</td>\n",
              "    </tr>\n",
              "    <tr>\n",
              "      <th>1</th>\n",
              "      <td>0.604772</td>\n",
              "      <td>-0.528510</td>\n",
              "      <td>1.282149</td>\n",
              "      <td>1.266465</td>\n",
              "    </tr>\n",
              "    <tr>\n",
              "      <th>2</th>\n",
              "      <td>-1.698483</td>\n",
              "      <td>0.368150</td>\n",
              "      <td>-0.546279</td>\n",
              "      <td>1.212314</td>\n",
              "    </tr>\n",
              "    <tr>\n",
              "      <th>3</th>\n",
              "      <td>-0.407296</td>\n",
              "      <td>-0.889329</td>\n",
              "      <td>-0.145542</td>\n",
              "      <td>1.362518</td>\n",
              "    </tr>\n",
              "  </tbody>\n",
              "</table>\n",
              "<p>100 rows × 4 columns</p>\n",
              "</div>\n",
              "      <button class=\"colab-df-convert\" onclick=\"convertToInteractive('df-86a287da-cb8e-4005-8e5c-68e909ca7d34')\"\n",
              "              title=\"Convert this dataframe to an interactive table.\"\n",
              "              style=\"display:none;\">\n",
              "        \n",
              "  <svg xmlns=\"http://www.w3.org/2000/svg\" height=\"24px\"viewBox=\"0 0 24 24\"\n",
              "       width=\"24px\">\n",
              "    <path d=\"M0 0h24v24H0V0z\" fill=\"none\"/>\n",
              "    <path d=\"M18.56 5.44l.94 2.06.94-2.06 2.06-.94-2.06-.94-.94-2.06-.94 2.06-2.06.94zm-11 1L8.5 8.5l.94-2.06 2.06-.94-2.06-.94L8.5 2.5l-.94 2.06-2.06.94zm10 10l.94 2.06.94-2.06 2.06-.94-2.06-.94-.94-2.06-.94 2.06-2.06.94z\"/><path d=\"M17.41 7.96l-1.37-1.37c-.4-.4-.92-.59-1.43-.59-.52 0-1.04.2-1.43.59L10.3 9.45l-7.72 7.72c-.78.78-.78 2.05 0 2.83L4 21.41c.39.39.9.59 1.41.59.51 0 1.02-.2 1.41-.59l7.78-7.78 2.81-2.81c.8-.78.8-2.07 0-2.86zM5.41 20L4 18.59l7.72-7.72 1.47 1.35L5.41 20z\"/>\n",
              "  </svg>\n",
              "      </button>\n",
              "      \n",
              "  <style>\n",
              "    .colab-df-container {\n",
              "      display:flex;\n",
              "      flex-wrap:wrap;\n",
              "      gap: 12px;\n",
              "    }\n",
              "\n",
              "    .colab-df-convert {\n",
              "      background-color: #E8F0FE;\n",
              "      border: none;\n",
              "      border-radius: 50%;\n",
              "      cursor: pointer;\n",
              "      display: none;\n",
              "      fill: #1967D2;\n",
              "      height: 32px;\n",
              "      padding: 0 0 0 0;\n",
              "      width: 32px;\n",
              "    }\n",
              "\n",
              "    .colab-df-convert:hover {\n",
              "      background-color: #E2EBFA;\n",
              "      box-shadow: 0px 1px 2px rgba(60, 64, 67, 0.3), 0px 1px 3px 1px rgba(60, 64, 67, 0.15);\n",
              "      fill: #174EA6;\n",
              "    }\n",
              "\n",
              "    [theme=dark] .colab-df-convert {\n",
              "      background-color: #3B4455;\n",
              "      fill: #D2E3FC;\n",
              "    }\n",
              "\n",
              "    [theme=dark] .colab-df-convert:hover {\n",
              "      background-color: #434B5C;\n",
              "      box-shadow: 0px 1px 3px 1px rgba(0, 0, 0, 0.15);\n",
              "      filter: drop-shadow(0px 1px 2px rgba(0, 0, 0, 0.3));\n",
              "      fill: #FFFFFF;\n",
              "    }\n",
              "  </style>\n",
              "\n",
              "      <script>\n",
              "        const buttonEl =\n",
              "          document.querySelector('#df-86a287da-cb8e-4005-8e5c-68e909ca7d34 button.colab-df-convert');\n",
              "        buttonEl.style.display =\n",
              "          google.colab.kernel.accessAllowed ? 'block' : 'none';\n",
              "\n",
              "        async function convertToInteractive(key) {\n",
              "          const element = document.querySelector('#df-86a287da-cb8e-4005-8e5c-68e909ca7d34');\n",
              "          const dataTable =\n",
              "            await google.colab.kernel.invokeFunction('convertToInteractive',\n",
              "                                                     [key], {});\n",
              "          if (!dataTable) return;\n",
              "\n",
              "          const docLinkHtml = 'Like what you see? Visit the ' +\n",
              "            '<a target=\"_blank\" href=https://colab.research.google.com/notebooks/data_table.ipynb>data table notebook</a>'\n",
              "            + ' to learn more about interactive tables.';\n",
              "          element.innerHTML = '';\n",
              "          dataTable['output_type'] = 'display_data';\n",
              "          await google.colab.output.renderOutput(dataTable, element);\n",
              "          const docLink = document.createElement('div');\n",
              "          docLink.innerHTML = docLinkHtml;\n",
              "          element.appendChild(docLink);\n",
              "        }\n",
              "      </script>\n",
              "    </div>\n",
              "  </div>\n",
              "  "
            ]
          },
          "metadata": {},
          "execution_count": 48
        }
      ]
    }
  ]
}